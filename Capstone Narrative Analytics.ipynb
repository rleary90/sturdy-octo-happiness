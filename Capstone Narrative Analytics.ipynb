{
 "cells": [
  {
   "cell_type": "code",
   "execution_count": 1,
   "metadata": {
    "scrolled": true
   },
   "outputs": [
    {
     "name": "stdout",
     "output_type": "stream",
     "text": [
      "/Users/rodrickleary/Downloads/Datasets for Thinkful Capstone/Sports\n"
     ]
    }
   ],
   "source": [
    "cd /Users/rodrickleary/Downloads/Datasets\\ for\\ Thinkful\\ Capstone/Sports"
   ]
  },
  {
   "cell_type": "markdown",
   "metadata": {},
   "source": [
    "## Data\n",
    "\n",
    "I will be working with the Premier League Data from the 2016-17 season. This data was released on Kaggle, representing data presented on whoscored.com that was collected by Opta sports, eNetPulse, and Getty Images.\n",
    "\n",
    "This data represents one full season worth of data for the English Premier League.\n",
    "\n",
    "This data consists of one table. This table contains a date, full time goal difference, full time goals conceded, full time goals scored, full time result, half time goal difference, half time goals conceded, half time goals scored, half time result, whether the team was playing a home match, match id, opponent name, team name, team rating, aggregated points, aggregated goals scored, aggregated goals conceded, aggregated goal difference, game number, and standing for each match included in the data set."
   ]
  },
  {
   "cell_type": "markdown",
   "metadata": {},
   "source": [
    "1. Do home teams perform better than road teams?\n",
    "\n",
    "Let's first start with the question about whether teams perform to different levels depending on whether they are playing at home or on the road."
   ]
  },
  {
   "cell_type": "code",
   "execution_count": 2,
   "metadata": {},
   "outputs": [],
   "source": [
    "import numpy as np\n",
    "import pandas as pd\n",
    "import matplotlib.pyplot as plt\n",
    "import seaborn as sns\n",
    "%matplotlib inline\n",
    "\n",
    "data = pd.read_csv('premier_league_2016_2017.csv')"
   ]
  },
  {
   "cell_type": "code",
   "execution_count": 3,
   "metadata": {},
   "outputs": [],
   "source": [
    "q1 = matches.groupby('is_home_match', as_index=False)['team_rating'].mean()"
   ]
  },
  {
   "cell_type": "code",
   "execution_count": 4,
   "metadata": {},
   "outputs": [
    {
     "name": "stdout",
     "output_type": "stream",
     "text": [
      "   is_home_match  team_rating\n",
      "0          False     6.740464\n",
      "1           True     6.874772\n"
     ]
    }
   ],
   "source": [
    "print(q1)"
   ]
  },
  {
   "cell_type": "code",
   "execution_count": 5,
   "metadata": {},
   "outputs": [
    {
     "data": {
      "text/plain": [
       "([<matplotlib.axis.XTick at 0x11e8685c0>,\n",
       "  <matplotlib.axis.XTick at 0x11e84edd8>],\n",
       " <a list of 2 Text xticklabel objects>)"
      ]
     },
     "execution_count": 5,
     "metadata": {},
     "output_type": "execute_result"
    },
    {
     "data": {
      "image/png": "[encoded data removed]",
      "text/plain": [
       "<Figure size 432x288 with 1 Axes>"
      ]
     },
     "metadata": {
      "needs_background": "light"
     },
     "output_type": "display_data"
    }
   ],
   "source": [
    "q1.plot.bar(x= 'is_home_match')\n",
    "plt.xlabel('Home Match')\n",
    "plt.xticks(np.arange(2), ['Away', 'Home'], rotation=0)\n"
   ]
  },
  {
   "cell_type": "markdown",
   "metadata": {},
   "source": [
    "So the mean and the plot appear to indicate that home teams have slightly better team ratings than road teams. However, as you can see from the plot, the averages of these two conditions are extremely close. \n",
    "\n",
    "Due to this small gap, I feel that it is worth evaluating whether or not the difference between home and road performances are statistically significant."
   ]
  },
  {
   "cell_type": "code",
   "execution_count": 6,
   "metadata": {},
   "outputs": [
    {
     "data": {
      "text/plain": [
       "Ttest_indResult(statistic=-4.989135505437621, pvalue=7.526462885601885e-07)"
      ]
     },
     "execution_count": 6,
     "metadata": {},
     "output_type": "execute_result"
    }
   ],
   "source": [
    "from scipy.stats import ttest_ind\n",
    "Away = matches[matches['is_home_match'] == False]['team_rating']\n",
    "Home = matches[matches['is_home_match'] == True]['team_rating']\n",
    "ttest_ind(Away, Home)   "
   ]
  },
  {
   "cell_type": "markdown",
   "metadata": {},
   "source": [
    "The results of an independent samples t-test indicate that home teams have significantly higher team ratings than away teams."
   ]
  },
  {
   "cell_type": "markdown",
   "metadata": {},
   "source": [
    "2. What is the relationship between results and team performances? Do home teams get better results than road teams?\n",
    "\n",
    "Now that we know that home teams have higher average team ratings than road teams, let's look at the relationship between results and team ratings."
   ]
  },
  {
   "cell_type": "code",
   "execution_count": 7,
   "metadata": {},
   "outputs": [],
   "source": [
    "q2 = matches.groupby('full_time_result', as_index=False)['team_rating'].mean()"
   ]
  },
  {
   "cell_type": "code",
   "execution_count": 8,
   "metadata": {},
   "outputs": [
    {
     "name": "stdout",
     "output_type": "stream",
     "text": [
      "  full_time_result  team_rating\n",
      "0             lose     6.454313\n",
      "1              tie     6.797961\n",
      "2              win     7.166404\n"
     ]
    }
   ],
   "source": [
    "print(q2)"
   ]
  },
  {
   "cell_type": "code",
   "execution_count": 9,
   "metadata": {},
   "outputs": [
    {
     "data": {
      "text/plain": [
       "(array([0, 1, 2]), <a list of 3 Text xticklabel objects>)"
      ]
     },
     "execution_count": 9,
     "metadata": {},
     "output_type": "execute_result"
    },
    {
     "data": {
      "image/png": "[encoded data removed]",
      "text/plain": [
       "<Figure size 432x288 with 1 Axes>"
      ]
     },
     "metadata": {
      "needs_background": "light"
     },
     "output_type": "display_data"
    }
   ],
   "source": [
    "q2.plot.bar(x= 'full_time_result')\n",
    "plt.xlabel('Result')\n",
    "plt.xticks(rotation=0)"
   ]
  },
  {
   "cell_type": "markdown",
   "metadata": {},
   "source": [
    "These results indicate that teams who win have higher team ratings than teams who tie who, in turn, have higher team ratings than teams who lose.\n",
    "\n",
    "Now that we know that home teams have higher team ratings than road teams and higher team ratings are linked to better results, let's put these findings together to answer the next question, Do home teams get better results than road teams?"
   ]
  },
  {
   "cell_type": "code",
   "execution_count": 10,
   "metadata": {},
   "outputs": [
    {
     "data": {
      "text/plain": [
       "Text(0, 0.5, 'Home')"
      ]
     },
     "execution_count": 10,
     "metadata": {},
     "output_type": "execute_result"
    },
    {
     "data": {
      "image/png": "[encoded data removed]",
      "text/plain": [
       "<Figure size 1296x864 with 2 Axes>"
      ]
     },
     "metadata": {},
     "output_type": "display_data"
    }
   ],
   "source": [
    "q2sum = matches.groupby(['full_time_result', 'is_home_match']).size().unstack(fill_value=0)\n",
    "ax = q2sum.plot.pie(subplots=True,figsize=(18, 12), autopct='%1.0f%%')\n",
    "ax[0].set_ylabel('Away', rotation=0)\n",
    "ax[1].set_ylabel('Home', rotation=0)"
   ]
  },
  {
   "cell_type": "markdown",
   "metadata": {},
   "source": [
    "This plot indicates that while home and road teams accumuluate a similar amount of ties over the course of a season, home teams win more games than road teams and lose fewer games than road teams. In other words, home teams get better results than road teams.\n",
    "\n",
    "This finding maps on to our previous findings since we know that home teams are more likely to have higher team ratings than road teams and higher team ratings are linked to better results."
   ]
  },
  {
   "cell_type": "markdown",
   "metadata": {},
   "source": [
    "3. How does team performance vary within a season? Which game are teams most likely to put in their best performance? Which game are teams most likely to put in their worst performance?\n",
    "\n",
    "Now that we know that results and performances are linked, let's look at home much team ratings naturally ebb and flow over the course of a season."
   ]
  },
  {
   "cell_type": "code",
   "execution_count": 11,
   "metadata": {},
   "outputs": [
    {
     "data": {
      "text/html": [
       "<div>\n",
       "<style scoped>\n",
       "    .dataframe tbody tr th:only-of-type {\n",
       "        vertical-align: middle;\n",
       "    }\n",
       "\n",
       "    .dataframe tbody tr th {\n",
       "        vertical-align: top;\n",
       "    }\n",
       "\n",
       "    .dataframe thead th {\n",
       "        text-align: right;\n",
       "    }\n",
       "</style>\n",
       "<table border=\"1\" class=\"dataframe\">\n",
       "  <thead>\n",
       "    <tr style=\"text-align: right;\">\n",
       "      <th></th>\n",
       "      <th>game_no</th>\n",
       "      <th>team_rating</th>\n",
       "    </tr>\n",
       "  </thead>\n",
       "  <tbody>\n",
       "    <tr>\n",
       "      <th>0</th>\n",
       "      <td>1</td>\n",
       "      <td>6.776521</td>\n",
       "    </tr>\n",
       "    <tr>\n",
       "      <th>1</th>\n",
       "      <td>2</td>\n",
       "      <td>6.843478</td>\n",
       "    </tr>\n",
       "    <tr>\n",
       "      <th>2</th>\n",
       "      <td>3</td>\n",
       "      <td>6.844646</td>\n",
       "    </tr>\n",
       "    <tr>\n",
       "      <th>3</th>\n",
       "      <td>4</td>\n",
       "      <td>6.811132</td>\n",
       "    </tr>\n",
       "    <tr>\n",
       "      <th>4</th>\n",
       "      <td>5</td>\n",
       "      <td>6.816957</td>\n",
       "    </tr>\n",
       "    <tr>\n",
       "      <th>5</th>\n",
       "      <td>6</td>\n",
       "      <td>6.784753</td>\n",
       "    </tr>\n",
       "    <tr>\n",
       "      <th>6</th>\n",
       "      <td>7</td>\n",
       "      <td>6.848799</td>\n",
       "    </tr>\n",
       "    <tr>\n",
       "      <th>7</th>\n",
       "      <td>8</td>\n",
       "      <td>6.825011</td>\n",
       "    </tr>\n",
       "    <tr>\n",
       "      <th>8</th>\n",
       "      <td>9</td>\n",
       "      <td>6.865993</td>\n",
       "    </tr>\n",
       "    <tr>\n",
       "      <th>9</th>\n",
       "      <td>10</td>\n",
       "      <td>6.845423</td>\n",
       "    </tr>\n",
       "    <tr>\n",
       "      <th>10</th>\n",
       "      <td>11</td>\n",
       "      <td>6.778080</td>\n",
       "    </tr>\n",
       "    <tr>\n",
       "      <th>11</th>\n",
       "      <td>12</td>\n",
       "      <td>6.793607</td>\n",
       "    </tr>\n",
       "    <tr>\n",
       "      <th>12</th>\n",
       "      <td>13</td>\n",
       "      <td>6.791024</td>\n",
       "    </tr>\n",
       "    <tr>\n",
       "      <th>13</th>\n",
       "      <td>14</td>\n",
       "      <td>6.811946</td>\n",
       "    </tr>\n",
       "    <tr>\n",
       "      <th>14</th>\n",
       "      <td>15</td>\n",
       "      <td>6.815751</td>\n",
       "    </tr>\n",
       "    <tr>\n",
       "      <th>15</th>\n",
       "      <td>16</td>\n",
       "      <td>6.799374</td>\n",
       "    </tr>\n",
       "    <tr>\n",
       "      <th>16</th>\n",
       "      <td>17</td>\n",
       "      <td>6.825360</td>\n",
       "    </tr>\n",
       "    <tr>\n",
       "      <th>17</th>\n",
       "      <td>18</td>\n",
       "      <td>6.757025</td>\n",
       "    </tr>\n",
       "    <tr>\n",
       "      <th>18</th>\n",
       "      <td>19</td>\n",
       "      <td>6.832942</td>\n",
       "    </tr>\n",
       "    <tr>\n",
       "      <th>19</th>\n",
       "      <td>20</td>\n",
       "      <td>6.793953</td>\n",
       "    </tr>\n",
       "    <tr>\n",
       "      <th>20</th>\n",
       "      <td>21</td>\n",
       "      <td>6.790349</td>\n",
       "    </tr>\n",
       "    <tr>\n",
       "      <th>21</th>\n",
       "      <td>22</td>\n",
       "      <td>6.807813</td>\n",
       "    </tr>\n",
       "    <tr>\n",
       "      <th>22</th>\n",
       "      <td>23</td>\n",
       "      <td>6.800989</td>\n",
       "    </tr>\n",
       "    <tr>\n",
       "      <th>23</th>\n",
       "      <td>24</td>\n",
       "      <td>6.845728</td>\n",
       "    </tr>\n",
       "    <tr>\n",
       "      <th>24</th>\n",
       "      <td>25</td>\n",
       "      <td>6.805838</td>\n",
       "    </tr>\n",
       "    <tr>\n",
       "      <th>25</th>\n",
       "      <td>26</td>\n",
       "      <td>6.769857</td>\n",
       "    </tr>\n",
       "    <tr>\n",
       "      <th>26</th>\n",
       "      <td>27</td>\n",
       "      <td>6.808214</td>\n",
       "    </tr>\n",
       "    <tr>\n",
       "      <th>27</th>\n",
       "      <td>28</td>\n",
       "      <td>6.788797</td>\n",
       "    </tr>\n",
       "    <tr>\n",
       "      <th>28</th>\n",
       "      <td>29</td>\n",
       "      <td>6.938984</td>\n",
       "    </tr>\n",
       "    <tr>\n",
       "      <th>29</th>\n",
       "      <td>30</td>\n",
       "      <td>6.807814</td>\n",
       "    </tr>\n",
       "    <tr>\n",
       "      <th>30</th>\n",
       "      <td>31</td>\n",
       "      <td>6.815281</td>\n",
       "    </tr>\n",
       "    <tr>\n",
       "      <th>31</th>\n",
       "      <td>32</td>\n",
       "      <td>6.798618</td>\n",
       "    </tr>\n",
       "    <tr>\n",
       "      <th>32</th>\n",
       "      <td>33</td>\n",
       "      <td>6.662363</td>\n",
       "    </tr>\n",
       "    <tr>\n",
       "      <th>33</th>\n",
       "      <td>34</td>\n",
       "      <td>6.844082</td>\n",
       "    </tr>\n",
       "    <tr>\n",
       "      <th>34</th>\n",
       "      <td>35</td>\n",
       "      <td>6.935247</td>\n",
       "    </tr>\n",
       "    <tr>\n",
       "      <th>35</th>\n",
       "      <td>36</td>\n",
       "      <td>6.644451</td>\n",
       "    </tr>\n",
       "    <tr>\n",
       "      <th>36</th>\n",
       "      <td>37</td>\n",
       "      <td>6.777442</td>\n",
       "    </tr>\n",
       "    <tr>\n",
       "      <th>37</th>\n",
       "      <td>38</td>\n",
       "      <td>6.785852</td>\n",
       "    </tr>\n",
       "  </tbody>\n",
       "</table>\n",
       "</div>"
      ],
      "text/plain": [
       "    game_no  team_rating\n",
       "0         1     6.776521\n",
       "1         2     6.843478\n",
       "2         3     6.844646\n",
       "3         4     6.811132\n",
       "4         5     6.816957\n",
       "5         6     6.784753\n",
       "6         7     6.848799\n",
       "7         8     6.825011\n",
       "8         9     6.865993\n",
       "9        10     6.845423\n",
       "10       11     6.778080\n",
       "11       12     6.793607\n",
       "12       13     6.791024\n",
       "13       14     6.811946\n",
       "14       15     6.815751\n",
       "15       16     6.799374\n",
       "16       17     6.825360\n",
       "17       18     6.757025\n",
       "18       19     6.832942\n",
       "19       20     6.793953\n",
       "20       21     6.790349\n",
       "21       22     6.807813\n",
       "22       23     6.800989\n",
       "23       24     6.845728\n",
       "24       25     6.805838\n",
       "25       26     6.769857\n",
       "26       27     6.808214\n",
       "27       28     6.788797\n",
       "28       29     6.938984\n",
       "29       30     6.807814\n",
       "30       31     6.815281\n",
       "31       32     6.798618\n",
       "32       33     6.662363\n",
       "33       34     6.844082\n",
       "34       35     6.935247\n",
       "35       36     6.644451\n",
       "36       37     6.777442\n",
       "37       38     6.785852"
      ]
     },
     "execution_count": 11,
     "metadata": {},
     "output_type": "execute_result"
    }
   ],
   "source": [
    "matches.groupby('game_no', as_index=False)['team_rating'].mean()"
   ]
  },
  {
   "cell_type": "markdown",
   "metadata": {},
   "source": [
    "Looking at the mean of indivual game  all of the numbers appear to be pretty close together. Let's plot this same data and see how it appears."
   ]
  },
  {
   "cell_type": "code",
   "execution_count": 12,
   "metadata": {},
   "outputs": [
    {
     "data": {
      "text/plain": [
       "Text(0, 0.5, 'Team Rating')"
      ]
     },
     "execution_count": 12,
     "metadata": {},
     "output_type": "execute_result"
    },
    {
     "data": {
      "image/png": "[encoded data removed]",
      "text/plain": [
       "<Figure size 1080x504 with 1 Axes>"
      ]
     },
     "metadata": {
      "needs_background": "light"
     },
     "output_type": "display_data"
    }
   ],
   "source": [
    "fig, ax = plt.subplots(figsize=(15,7))\n",
    "matches.groupby(['game_no']).mean()['team_rating'].plot(ax=ax)\n",
    "plt.xlabel('Game Number')\n",
    "ax.set_ylabel('Team Rating')"
   ]
  },
  {
   "cell_type": "markdown",
   "metadata": {},
   "source": [
    "This line graph makes the data alot clearer to look at. Team ratings tend to stay between 6.8 and 6.85 throughout most of the season. However, two things are noticeable from this plot that are not immediately evident when looking at the table of means. The first is that average team ratings appear to be highest at games 29 and 35, and the second is that average team ratings appeart to be lowest at games 33 and 36."
   ]
  },
  {
   "cell_type": "markdown",
   "metadata": {},
   "source": [
    "## Future Directions\n",
    "\n",
    "Despite a lot of interesting findings that have been discovered in this data set, there are still plenty of future questions that were left unanswered due to the scope of this project. First, future analysis should seek to replicate these findings with data sets from other soccer seasons not only in England, but in other countries as well. One of the most striking reasons for this based on the information presented in this report is that despite the relatively small gap in team ratings, around 0.13, a statistically significant difference was detected between the team ratings of home teams and road teams. One possible explanation for this is sample size. Data from all 760 matches from the 2016-17 premier league season was included in this data set. One of the drawbacks of large sample sizes is that they are more likely to result in a type 1 error, or false positive. In order to ensure the findings from question 1 were not the result of a false positive, it is important that these results be replicated with other data sets.\n",
    "\n",
    "Next, future analysis should look to evaluate whether or not their are signficant differences in team ratings based on the result of the match. The analysis done in question one would lead one to hypothesize that there are significant differences in team ratings based on results. However, without a test for significance, it is impossible to say if the means of the average team ratings based on results fall outside of the expected deviation and are truly different from one another. \n",
    "\n",
    "Lastly, future analysis should be done to evaluate why the average team ratings for teams appear to be higher at games 29 and 35, and lower at games 33 and 36. Future analysis should seek to discover if this is the result of teams in general having higher or lower ratings in these specific games or if there are outlier team ratings that are skewing the means of the entire league at these data points."
   ]
  }
 ],
 "metadata": {
  "kernelspec": {
   "display_name": "Python 3",
   "language": "python",
   "name": "python3"
  },
  "language_info": {
   "codemirror_mode": {
    "name": "ipython",
    "version": 3
   },
   "file_extension": ".py",
   "mimetype": "text/x-python",
   "name": "python",
   "nbconvert_exporter": "python",
   "pygments_lexer": "ipython3",
   "version": "3.7.3"
  }
 },
 "nbformat": 4,
 "nbformat_minor": 2
}
