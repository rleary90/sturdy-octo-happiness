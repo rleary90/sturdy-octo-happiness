{
 "cells": [
  {
   "cell_type": "code",
   "execution_count": 1,
   "metadata": {},
   "outputs": [],
   "source": [
    "import time\n",
    "import random\n",
    "\n",
    "# Set seed.\n",
    "random.seed(a=100)\n",
    "\n",
    "# Create our default lists.\n",
    "\n",
    "heap_short_list = list(random.sample(range(1000000), 10))\n",
    "heap_long_list = list(random.sample(range(1000000), 10000))\n",
    "\n",
    "selection_short_list = list(random.sample(range(1000000), 10))\n",
    "selection_long_list = list(random.sample(range(1000000), 10000))\n",
    "\n",
    "quick_short_list = list(random.sample(range(1000000), 10))\n",
    "quick_long_list = list(random.sample(range(1000000), 10000))\n",
    "\n",
    "py_short_list = list(random.sample(range(1000000), 10))\n",
    "py_long_list = list(random.sample(range(1000000), 10000))"
   ]
  },
  {
   "cell_type": "markdown",
   "metadata": {},
   "source": [
    "# Heap Sort"
   ]
  },
  {
   "cell_type": "code",
   "execution_count": 2,
   "metadata": {},
   "outputs": [],
   "source": [
    "def heap_sort(s):                               \n",
    "    sl = len(s)                                    \n",
    "\n",
    "    def swap(pi, ci):                              \n",
    "        if s[pi] < s[ci]:                          \n",
    "            s[pi], s[ci] = s[ci], s[pi]            \n",
    "\n",
    "    def sift(pi, unsorted):                        \n",
    "        i_gt = lambda a, b: a if s[a] > s[b] else b\n",
    "        while pi*2+2 < unsorted:                   \n",
    "            gtci = i_gt(pi*2+1, pi*2+2)            \n",
    "            swap(pi, gtci)                         \n",
    "            pi = gtci                              \n",
    "    # heapify                                      \n",
    "    for i in range((sl//2)-1, -1, -1):              \n",
    "        sift(i, sl)                                \n",
    "    # sort                                         \n",
    "    for i in range(sl-1, 0, -1):                   \n",
    "        swap(i, 0)                                 \n",
    "        sift(0, i)"
   ]
  },
  {
   "cell_type": "code",
   "execution_count": 3,
   "metadata": {},
   "outputs": [
    {
     "name": "stdout",
     "output_type": "stream",
     "text": [
      "[152745, 481850, 477025, 997948, 808225, 183236, 739784, 412125, 767514, 366725]\n"
     ]
    }
   ],
   "source": [
    "print(heap_short_list)"
   ]
  },
  {
   "cell_type": "code",
   "execution_count": 4,
   "metadata": {},
   "outputs": [
    {
     "name": "stdout",
     "output_type": "stream",
     "text": [
      "--- 0.00019097328186035156 seconds ---\n",
      "[152745, 183236, 366725, 412125, 477025, 481850, 739784, 767514, 808225, 997948]\n"
     ]
    }
   ],
   "source": [
    "# Start Timer\n",
    "start_time = time.time()\n",
    "\n",
    "# Sort the default list. Note that .sort() will sort in place, which would alter default_list.\n",
    "heap_sort(heap_short_list)\n",
    "\n",
    "# Print time to show runtime\n",
    "heap_time = time.time() - start_time\n",
    "print(\"--- %s seconds ---\" % (heap_time))\n",
    "print(heap_short_list)"
   ]
  },
  {
   "cell_type": "code",
   "execution_count": 5,
   "metadata": {},
   "outputs": [
    {
     "name": "stdout",
     "output_type": "stream",
     "text": [
      "--- 0.13136601448059082 seconds ---\n"
     ]
    }
   ],
   "source": [
    "# Start Timer\n",
    "start_time = time.time()\n",
    "\n",
    "# Sort the default list. Note that .sort() will sort in place, which would alter default_list.\n",
    "heap_sort(heap_long_list)\n",
    "\n",
    "# Print time to show runtime\n",
    "print(\"--- %s seconds ---\" % (time.time() - start_time))"
   ]
  },
  {
   "cell_type": "markdown",
   "metadata": {},
   "source": [
    "# Selection Sort"
   ]
  },
  {
   "cell_type": "code",
   "execution_count": 6,
   "metadata": {},
   "outputs": [],
   "source": [
    "# Your Code Here:\n",
    "def selectionSort(alist):\n",
    "    for i in range(len(alist)):\n",
    "        # Find the minimum element in remaining\n",
    "        minPosition = i\n",
    "        \n",
    "        for j in range(i+1, len(alist)):\n",
    "            if alist[minPosition] > alist[j]:\n",
    "                minPosition = j\n",
    "        # Swap the found minimum element with minPosition\n",
    "        temp = alist[i]\n",
    "        alist[i] = alist[minPosition]\n",
    "        alist[minPosition] = temp\n",
    "        \n",
    "    return alist"
   ]
  },
  {
   "cell_type": "code",
   "execution_count": 7,
   "metadata": {},
   "outputs": [
    {
     "name": "stdout",
     "output_type": "stream",
     "text": [
      "[158968, 271434, 142308, 484317, 322428, 393382, 203147, 966692, 734720, 820597]\n"
     ]
    }
   ],
   "source": [
    "print(selection_short_list)"
   ]
  },
  {
   "cell_type": "code",
   "execution_count": 8,
   "metadata": {},
   "outputs": [
    {
     "name": "stdout",
     "output_type": "stream",
     "text": [
      "--- 0.00015497207641601562 seconds ---\n",
      "[142308, 158968, 203147, 271434, 322428, 393382, 484317, 734720, 820597, 966692]\n"
     ]
    }
   ],
   "source": [
    "# Start Timer\n",
    "start_time = time.time()\n",
    "\n",
    "# Sort the default list. Note that .sort() will sort in place, which would alter default_list.\n",
    "selectionSort(selection_short_list)\n",
    "\n",
    "# Print time to show runtime\n",
    "selection_time = time.time() - start_time\n",
    "\n",
    "print(\"--- %s seconds ---\" % (selection_time))\n",
    "print(selection_short_list)"
   ]
  },
  {
   "cell_type": "code",
   "execution_count": 9,
   "metadata": {},
   "outputs": [
    {
     "name": "stdout",
     "output_type": "stream",
     "text": [
      "--- 7.249943733215332 seconds ---\n"
     ]
    }
   ],
   "source": [
    "# Start Timer\n",
    "start_time = time.time()\n",
    "\n",
    "# Sort the default list. Note that .sort() will sort in place, which would alter default_list.\n",
    "selectionSort(selection_long_list)\n",
    "\n",
    "# Print time to show runtime\n",
    "print(\"--- %s seconds ---\" % (time.time() - start_time))"
   ]
  },
  {
   "cell_type": "markdown",
   "metadata": {},
   "source": [
    "# Quick Sort"
   ]
  },
  {
   "cell_type": "code",
   "execution_count": 10,
   "metadata": {},
   "outputs": [],
   "source": [
    "# Your Code Here:\n",
    "def quickSort(alist):\n",
    "    quickSortHelper(alist,0,len(alist)-1)\n",
    "\n",
    "def quickSortHelper(alist,first,last):\n",
    "    if first<last:\n",
    "        splitpoint = partition(alist,first,last)\n",
    "        quickSortHelper(alist,first,splitpoint-1)\n",
    "        quickSortHelper(alist,splitpoint+1,last)\n",
    "\n",
    "\n",
    "def partition(alist,first,last):\n",
    "    pivotvalue = alist[first]\n",
    "    leftmark = first+1\n",
    "    rightmark = last\n",
    "    done = False\n",
    "   \n",
    "    while not done:\n",
    "        while leftmark <= rightmark and alist[leftmark] <= pivotvalue:\n",
    "            leftmark += 1\n",
    "        \n",
    "        while alist[rightmark] >= pivotvalue and rightmark >= leftmark:\n",
    "            rightmark = rightmark -1\n",
    "\n",
    "        if rightmark < leftmark:\n",
    "            done = True\n",
    "        else:\n",
    "            alist[leftmark], alist[rightmark] = alist[rightmark], alist[leftmark]\n",
    "    alist[first], alist[rightmark] = alist[rightmark], alist[first]\n",
    "    return rightmark"
   ]
  },
  {
   "cell_type": "code",
   "execution_count": 11,
   "metadata": {},
   "outputs": [
    {
     "name": "stdout",
     "output_type": "stream",
     "text": [
      "[633130, 971488, 373198, 317150, 320177, 421389, 175222, 164535, 779902, 965825]\n"
     ]
    }
   ],
   "source": [
    "print(quick_short_list)"
   ]
  },
  {
   "cell_type": "code",
   "execution_count": 12,
   "metadata": {},
   "outputs": [
    {
     "name": "stdout",
     "output_type": "stream",
     "text": [
      "--- 0.00016689300537109375 seconds ---\n",
      "[164535, 175222, 317150, 320177, 373198, 421389, 633130, 779902, 965825, 971488]\n"
     ]
    }
   ],
   "source": [
    "# Start Timer\n",
    "start_time = time.time()\n",
    "\n",
    "# Sort the default list. Note that .sort() will sort in place, which would alter default_list.\n",
    "quickSort(quick_short_list)\n",
    "\n",
    "# Print time to show runtime\n",
    "quick_time = time.time() - start_time\n",
    "print(\"--- %s seconds ---\" % (quick_time))\n",
    "print(quick_short_list)"
   ]
  },
  {
   "cell_type": "code",
   "execution_count": 13,
   "metadata": {},
   "outputs": [
    {
     "name": "stdout",
     "output_type": "stream",
     "text": [
      "--- 0.050939321517944336 seconds ---\n"
     ]
    }
   ],
   "source": [
    "# Start Timer\n",
    "start_time = time.time()\n",
    "\n",
    "# Sort the default list. Note that .sort() will sort in place, which would alter default_list.\n",
    "quickSort(quick_long_list)\n",
    "\n",
    "# Print time to show runtime\n",
    "print(\"--- %s seconds ---\" % (time.time() - start_time))"
   ]
  },
  {
   "cell_type": "markdown",
   "metadata": {},
   "source": [
    "# Python Sort"
   ]
  },
  {
   "cell_type": "code",
   "execution_count": 14,
   "metadata": {},
   "outputs": [
    {
     "name": "stdout",
     "output_type": "stream",
     "text": [
      "--- 8.726119995117188e-05 seconds ---\n"
     ]
    }
   ],
   "source": [
    "# Start Timer\n",
    "start_time = time.time()\n",
    "\n",
    "# Sort the default list. Note that .sort() will sort in place, which would alter default_list.\n",
    "sorted(py_short_list)\n",
    "\n",
    "# Print time to show runtime\n",
    "py_time = time.time() - start_time\n",
    "print(\"--- %s seconds ---\" % (py_time))"
   ]
  },
  {
   "cell_type": "code",
   "execution_count": 15,
   "metadata": {},
   "outputs": [
    {
     "name": "stdout",
     "output_type": "stream",
     "text": [
      "--- 0.001964092254638672 seconds ---\n"
     ]
    }
   ],
   "source": [
    "# Start Timer\n",
    "start_time = time.time()\n",
    "\n",
    "# Sort the default list. Note that .sort() will sort in place, which would alter default_list.\n",
    "sorted(py_long_list)\n",
    "\n",
    "# Print time to show runtime\n",
    "print(\"--- %s seconds ---\" % (time.time() - start_time))"
   ]
  },
  {
   "cell_type": "markdown",
   "metadata": {},
   "source": [
    "# Results"
   ]
  },
  {
   "cell_type": "code",
   "execution_count": 16,
   "metadata": {},
   "outputs": [
    {
     "name": "stdout",
     "output_type": "stream",
     "text": [
      "0.00019097328186035156 seconds is the time it takes to process with heap sorting\n",
      "0.00015497207641601562 seconds is the time it takes to process with selection sorting\n",
      "0.00016689300537109375 seconds is the time it takes to process with quick sorting\n",
      "8.726119995117188e-05 seconds is the time it takes to process with the default python sorting method\n"
     ]
    }
   ],
   "source": [
    "print(\"%s seconds is the time it takes to process with heap sorting\" % heap_time)\n",
    "print(\"%s seconds is the time it takes to process with selection sorting\" % selection_time)\n",
    "print(\"%s seconds is the time it takes to process with quick sorting\" % quick_time)\n",
    "print(\"%s seconds is the time it takes to process with the default python sorting method\" % py_time)"
   ]
  },
  {
   "cell_type": "code",
   "execution_count": null,
   "metadata": {},
   "outputs": [],
   "source": []
  }
 ],
 "metadata": {
  "kernelspec": {
   "display_name": "Python 3",
   "language": "python",
   "name": "python3"
  },
  "language_info": {
   "codemirror_mode": {
    "name": "ipython",
    "version": 3
   },
   "file_extension": ".py",
   "mimetype": "text/x-python",
   "name": "python",
   "nbconvert_exporter": "python",
   "pygments_lexer": "ipython3",
   "version": "3.7.3"
  }
 },
 "nbformat": 4,
 "nbformat_minor": 2
}
